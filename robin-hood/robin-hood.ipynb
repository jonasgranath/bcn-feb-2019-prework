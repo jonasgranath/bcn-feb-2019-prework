{
 "cells": [
  {
   "cell_type": "markdown",
   "metadata": {},
   "source": [
    "# Robin Hood:\n",
    "We are in a competition to win the archery contest in Sherwood. With our bow and arrows we shoot on a target and try to hit as close as possible to the center.\n",
    "\n",
    "The center of the target is represented by the values (0, 0) on the coordinate axes.\n",
    "\n",
    "![](images/arrows.jpg)\n",
    "\n",
    "## Goals:\n",
    "* data structures: lists, sets, tuples\n",
    "* logical operators: if-elif-else\n",
    "* loop: while/for\n",
    "* minimum (optional sorting)\n",
    "\n",
    "## Description:\n",
    "In the 2-dimensional space, a point can be defined by a pair of values that correspond to the horizontal coordinate (x) and the vertical coordinate (y). The space can be divided into 4 zones (quadrants): Q1, Q2, Q3, Q4. Whose single point of union is the point (0, 0).\n",
    "\n",
    "If a point is in Q1 both its x coordinate and the y are positive. I leave a link to wikipedia to familiarize yourself with these quadrants.\n",
    "\n",
    "https://en.wikipedia.org/wiki/Cartesian_coordinate_system\n",
    "\n",
    "https://en.wikipedia.org/wiki/Euclidean_distance\n",
    "\n",
    "## Shots\n",
    "```\n",
    "points = [(4, 5), (-0, 2), (4, 7), (1, -3), (3, -2), (4, 5),\n",
    "          (3, 2), (5, 7), (-5, 7), (2, 2), (-4, 5), (0, -2),\n",
    "          (-4, 7), (-1, 3), (-3, 2), (-4, -5), (-3, 2),\n",
    "          (5, 7), (5, 7), (2, 2), (9, 9), (-8, -9)]\n",
    "```\n",
    "\n",
    "## Tasks\n",
    "1. Robin Hood is famous for hitting an arrow with another arrow. Did you get it?\n",
    "2. Calculate how many arrows have fallen in each quadrant.\n",
    "3. Find the point closest to the center. Calculate its distance to the center. \n",
    "4. If the target has a radius of 9, calculate the number of arrows that must be picked up in the forest."
   ]
  },
  {
   "cell_type": "code",
   "execution_count": 1,
   "metadata": {},
   "outputs": [],
   "source": [
    "# Variables\n",
    "\n",
    "points = [(4, 5), (-0, 2), (4, 7), (1, -3), (3, -2), (4, 5),\n",
    "          (3, 2), (5, 7), (-5, 7), (2, 2), (-4, 5), (0, -2),\n",
    "          (-4, 7), (-1, 3), (-3, 2), (-4, -5), (-3, 2),\n",
    "          (5, 7), (5, 7), (2, 2), (9, 9), (-8, -9)]\n",
    "\n",
    "i=0\n",
    "n=0\n",
    "cc = 0"
   ]
  },
  {
   "cell_type": "code",
   "execution_count": 2,
   "metadata": {},
   "outputs": [
    {
     "name": "stdout",
     "output_type": "stream",
     "text": [
      "17.0 Times totally, one arrow has been hit with another arrow\n"
     ]
    }
   ],
   "source": [
    "# 1. Robin Hood is famous for hitting an arrow with another arrow. Did you get it?\n",
    "points = [(4, 5), (-0, 2), (4, 7), (1, -3), (3, -2), (4, 5),\n",
    "          (3, 2), (5, 7), (-5, 7), (2, 2), (-4, 5), (0, -2),\n",
    "          (-4, 7), (-1, 3), (-3, 2), (-4, -5), (-3, 2),\n",
    "          (5, 7), (5, 7), (2, 2), (9, 9), (-8, -9)]\n",
    "\n",
    "i=0\n",
    "n=0\n",
    "cc = 0\n",
    "\n",
    "for n in range (len(points)):\n",
    "    for i in range (len(points)):\n",
    "        if points[-1 + n] == points [-1 + i]:\n",
    "            cc = cc +1\n",
    "\n",
    "if cc > 0:\n",
    "    print(cc/2,\"Times totally, one arrow has been hit with another arrow\")\n",
    "\n"
   ]
  },
  {
   "cell_type": "code",
   "execution_count": 3,
   "metadata": {},
   "outputs": [
    {
     "name": "stdout",
     "output_type": "stream",
     "text": [
      "10 arrows hit the first quadrant\n",
      "2 arrows hit the second quadrant\n",
      "2 arrows hit the third quadrant\n",
      "6 arrows hit the fourth quadrant\n"
     ]
    }
   ],
   "source": [
    "# 2. Calculate how many arrows have fallen in each quadrant.\n",
    "\n",
    "points = [(4, 5), (-0, 2), (4, 7), (1, -3), (3, -2), (4, 5),\n",
    "          (3, 2), (5, 7), (-5, 7), (2, 2), (-4, 5), (0, -2),\n",
    "          (-4, 7), (-1, 3), (-3, 2), (-4, -5), (-3, 2),\n",
    "          (5, 7), (5, 7), (2, 2), (9, 9), (-8, -9)]\n",
    "\n",
    "i=0\n",
    "n=0\n",
    "cc = 0\n",
    "\n",
    "i = 0\n",
    "a = 0   \n",
    "firstquadrant = 0\n",
    "secondquadrant = 0 \n",
    "thirdquadrant = 0\n",
    "fourthquadrant = 0\n",
    "dist = []\n",
    "radius = 9\n",
    "miss = 0\n",
    "\n",
    "for a in range (len(points)): \n",
    "    if ((points [0 + a][0])>0) & ((points [0 + a][1])>0): #firstquadrant\n",
    "        firstquadrant += 1\n",
    "    if ((points [0 + a][0])>0) & ((points [0 + a][1])<0): #secondquadrant\n",
    "        secondquadrant += 1\n",
    "    if ((points [0 + a][0])<0) & ((points [0 + a][1])<0): #thirdquadrant\n",
    "        thirdquadrant += 1\n",
    "    if ((points [0 + a][0])<0) & ((points [0 + a][1])>0): #fourthquadrant\n",
    "        fourthquadrant += 1\n",
    "    \n",
    "   \n",
    "print (firstquadrant,\"arrows hit the first quadrant\")\n",
    "print (secondquadrant,\"arrows hit the second quadrant\")\n",
    "print (thirdquadrant,\"arrows hit the third quadrant\")\n",
    "print (fourthquadrant,\"arrows hit the fourth quadrant\")\n"
   ]
  },
  {
   "cell_type": "code",
   "execution_count": 6,
   "metadata": {},
   "outputs": [
    {
     "name": "stdout",
     "output_type": "stream",
     "text": [
      "The nearest arrow is 2.0 unities from the center\n",
      "Thats arrow number 2 in the shooting sequence\n"
     ]
    }
   ],
   "source": [
    "# 3. Find the point closest to the center. Calculate its distance to the center\n",
    "# Defining a function that calculates the distance to the center can help.\n",
    "points = [(4, 5), (-0, 2), (4, 7), (1, -3), (3, -2), (4, 5),\n",
    "          (3, 2), (5, 7), (-5, 7), (2, 2), (-4, 5), (0, -2),\n",
    "          (-4, 7), (-1, 3), (-3, 2), (-4, -5), (-3, 2),\n",
    "          (5, 7), (5, 7), (2, 2), (9, 9), (-8, -9)]\n",
    "\n",
    "i=0\n",
    "n=0\n",
    "cc = 0\n",
    "\n",
    "\n",
    "import math\n",
    "def distance(x, y):\n",
    "    return round(math.sqrt(x**2 + y**2),2)\n",
    "    \n",
    "for i in range (len(points)):\n",
    "    dist.append(distance(points[0 + i][0],points[0 + i][1]))\n",
    "    if dist [i] > radius:\n",
    "        miss += 1\n",
    "    \n",
    "print (\"The nearest arrow is\",(min(dist)),\"unities from the center\" )\n",
    "\n",
    "\n"
   ]
  },
  {
   "cell_type": "code",
   "execution_count": 12,
   "metadata": {},
   "outputs": [
    {
     "name": "stdout",
     "output_type": "stream",
     "text": [
      "2 Arrows has missed the target totally.\n"
     ]
    }
   ],
   "source": [
    "# 4. If the target has a radius of 9, calculate the number of arrows that \n",
    "# must be picked up in the forest.\n",
    "\n",
    "i = 0\n",
    "a = 0   \n",
    "firstquadrant = 0\n",
    "secondquadrant = 0 \n",
    "thirdquadrant = 0\n",
    "fourthquadrant = 0\n",
    "dist = []\n",
    "radius = 9\n",
    "miss = 0\n",
    "\n",
    "\n",
    "import math\n",
    "def distance(x, y):\n",
    "    return round(math.sqrt(x**2 + y**2),2)\n",
    "\n",
    "for i in range (len(points)):\n",
    "    dist.append(distance(points[0 + i][0],points[0 + i][1]))\n",
    "    if dist [i] > radius:\n",
    "        miss += 1\n",
    "\n",
    "print(miss,\"Arrows has missed the target totally.\")\n",
    "\n",
    "\n",
    "\n"
   ]
  },
  {
   "cell_type": "code",
   "execution_count": null,
   "metadata": {},
   "outputs": [],
   "source": []
  }
 ],
 "metadata": {
  "kernelspec": {
   "display_name": "Python 3",
   "language": "python",
   "name": "python3"
  },
  "language_info": {
   "codemirror_mode": {
    "name": "ipython",
    "version": 3
   },
   "file_extension": ".py",
   "mimetype": "text/x-python",
   "name": "python",
   "nbconvert_exporter": "python",
   "pygments_lexer": "ipython3",
   "version": "3.7.3"
  }
 },
 "nbformat": 4,
 "nbformat_minor": 2
}
