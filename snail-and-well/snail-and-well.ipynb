{
 "cells": [
  {
   "cell_type": "markdown",
   "metadata": {},
   "source": [
    "# Snail and well\n",
    "\n",
    "A snail falls at the bottom of a 125 cm well. Each day the snail rises 30 cm. But at night, while sleeping, slides 20 cm because the walls are wet. How many days does it take to escape from the well?\n",
    "\n",
    "TIP: http://puzzles.nigelcoldwell.co.uk/sixtytwo.htm"
   ]
  },
  {
   "cell_type": "markdown",
   "metadata": {},
   "source": [
    "## Solución"
   ]
  },
  {
   "cell_type": "code",
   "execution_count": 1,
   "metadata": {},
   "outputs": [
    {
     "name": "stdout",
     "output_type": "stream",
     "text": [
      "11\n"
     ]
    }
   ],
   "source": [
    "# Assign problem data to variables with representative names\n",
    "# well height, daily advance, night retreat, accumulated distance\n",
    "\n",
    "\n",
    "# Assign 0 to the variable that represents the solution\n",
    "\n",
    "\n",
    "# Write the code that solves the problem\n",
    "\n",
    "\n",
    "# Print the result with print('Days =', days)\n",
    "\n",
    "h = 125 #125cm well height\n",
    "d = 30  #30cm distance snigeln tar sig varje dag \n",
    "r = 20  #20cm distance som snigeln glider tillbaka varje natt \n",
    "\n",
    "n=0 \n",
    "ad = 0 #sträcka snigeln har färdats \n",
    "days = 0 # days passed\n",
    "\n",
    "\n",
    "while ad < 125:\n",
    "    days += 1\n",
    "    ad += d\n",
    "    if ad > 125:\n",
    "        break\n",
    "    elif ad > (ad - d):\n",
    "        ad = ad - r\n",
    "   \n",
    "\n",
    "\n",
    "\n",
    "print(days)\n"
   ]
  },
  {
   "cell_type": "markdown",
   "metadata": {},
   "source": [
    "## Goals\n",
    "\n",
    "1. Treatment of variables\n",
    "2. Use of loop **while**\n",
    "3. Use of conditional **if-else**\n",
    "4. Print in console"
   ]
  },
  {
   "cell_type": "markdown",
   "metadata": {},
   "source": [
    "## Bonus\n",
    "The distance traveled by the snail is now defined by a list.\n",
    "```\n",
    "advance_cm = [30, 21, 33, 77, 44, 45, 23, 45, 12, 34, 55]\n",
    "```\n",
    "How long does it take to raise the well?\n",
    "\n",
    "What is its maximum displacement in one day? And its minimum?\n",
    "\n",
    "What is its average speed during the day?\n",
    "\n",
    "What is the standard deviation of its displacement during the day?"
   ]
  },
  {
   "cell_type": "code",
   "execution_count": 97,
   "metadata": {},
   "outputs": [
    {
     "name": "stdout",
     "output_type": "stream",
     "text": [
      "Days = 4\n",
      "max displacement in a day = 44\n",
      "min displacement in a day = 1\n",
      "[9, 12, 44, 33, 1, 22, 22, 33, 22, 21]\n",
      "average progress= 21.9 cm\n",
      "standard dev = 12.635487942915207 cm\n"
     ]
    }
   ],
   "source": [
    "# Assign problem data to variables with representative names\n",
    "# well height, daily advance, night retreat, accumulated distance\n",
    "\n",
    "advance_cm = [30, 21, 33, 77, 44, 45, 23, 45, 12, 34, 55]\n",
    "ad_list = []\n",
    "ad = 0\n",
    "\n",
    "# Assign 0 to the variable that represents the solution\n",
    "days = 0\n",
    "\n",
    "\n",
    "# Write the code that solves the problem\n",
    "\n",
    "for i in range (len(advance_cm)):\n",
    "    ad = ad + (advance_cm[0+i])\n",
    "    ad_list.append(ad)\n",
    "    if ad >= 125:\n",
    "        break\n",
    "        print(ad)\n",
    "        \n",
    "\n",
    "days = len(ad_list)\n",
    "\n",
    "    \n",
    "   \n",
    "\n",
    "\n",
    "# Print the result with print('Days =', days)\n",
    "\n",
    "print(\"Days =\", days)\n",
    "\n",
    "# What is its maximum displacement in a day? And its minimum?\n",
    "\n",
    "dif_list = []\n",
    "\n",
    "for i in range (0,10):\n",
    "    if (advance_cm[0 + i] -advance_cm[1 + i]) < 0:\n",
    "        dif_list.append((advance_cm[0 + i] -advance_cm[1 + i])*-1)\n",
    "    else:\n",
    "        dif_list.append((advance_cm[0 + i] -advance_cm[1 + i]))\n",
    "\n",
    "\n",
    "print (\"max displacement in a day =\", max(dif_list))\n",
    "print (\"min displacement in a day =\", min(dif_list))\n",
    "\n",
    "print(dif_list)\n",
    "\n",
    "# What is its average progress?\n",
    "avg = (sum(dif_list)/len(dif_list))\n",
    "print(\"average progress=\", avg,\"cm\")\n",
    "\n",
    "# What is the standard deviation of your displacement during the day?\n",
    "\n",
    "import statistics\n",
    "dev = statistics.stdev(dif_list)\n",
    "\n",
    "print(\"standard dev =\", dev,\"cm\")\n",
    "\n"
   ]
  },
  {
   "cell_type": "code",
   "execution_count": null,
   "metadata": {},
   "outputs": [],
   "source": []
  },
  {
   "cell_type": "code",
   "execution_count": null,
   "metadata": {},
   "outputs": [],
   "source": []
  }
 ],
 "metadata": {
  "kernelspec": {
   "display_name": "Python 3",
   "language": "python",
   "name": "python3"
  },
  "language_info": {
   "codemirror_mode": {
    "name": "ipython",
    "version": 3
   },
   "file_extension": ".py",
   "mimetype": "text/x-python",
   "name": "python",
   "nbconvert_exporter": "python",
   "pygments_lexer": "ipython3",
   "version": "3.7.3"
  }
 },
 "nbformat": 4,
 "nbformat_minor": 2
}
