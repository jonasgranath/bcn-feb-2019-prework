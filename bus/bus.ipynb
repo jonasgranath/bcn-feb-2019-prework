{
 "cells": [
  {
   "cell_type": "markdown",
   "metadata": {},
   "source": [
    "# Bus\n",
    "\n",
    "This bus has a passenger entry and exit control system to monitor the number of occupants it carries and thus detect when there is too high a capacity.\n",
    "\n",
    "At each stop the entry and exit of passengers is represented by a tuple consisting of two integer numbers.\n",
    "```\n",
    "bus_stop = (in, out)\n",
    "```\n",
    "The succession of stops is represented by a list of these tuples.\n",
    "```\n",
    "stops = [(in1, out1), (in2, out2), (in3, out3), (in4, out4)]\n",
    "```\n",
    "\n",
    "## Goals:\n",
    "* lists, tuples\n",
    "* while/for loops\n",
    "* minimum, maximum, length\n",
    "* average, standard deviation\n",
    "\n",
    "## Tasks\n",
    "1. Calculate the number of stops.\n",
    "2. Assign to a variable a list whose elements are the number of passengers at each stop (in-out),\n",
    "3. Find the maximum occupation of the bus.\n",
    "4. Calculate the average occupation. And the standard deviation.\n"
   ]
  },
  {
   "cell_type": "code",
   "execution_count": 1,
   "metadata": {},
   "outputs": [],
   "source": [
    "stops = [(10,-0), (3,-9), (15,-1), (3,-14)]\n",
    "numberStops=len(stops)\n",
    "n=0\n",
    "pb = [] #total ppl on/off bus at each stop\n",
    "tpb = [] #total number of people on bus after each stop\n"
   ]
  },
  {
   "cell_type": "code",
   "execution_count": 4,
   "metadata": {},
   "outputs": [
    {
     "name": "stdout",
     "output_type": "stream",
     "text": [
      "There is 4 stops on this line\n",
      "\n"
     ]
    }
   ],
   "source": [
    "stops = [(10,-0), (3,-9), (15,-1), (3,-14)]\n",
    "numberStops=len(stops)\n",
    "n=0\n",
    "pb = [] #total ppl on/off bus at each stop\n",
    "tpb = [] #total number of people on bus after each stop\n",
    "\n",
    "print (\"There is\",numberStops, \"stops on this line\") \n",
    "print(\"\")\n"
   ]
  },
  {
   "cell_type": "code",
   "execution_count": 5,
   "metadata": {},
   "outputs": [
    {
     "name": "stdout",
     "output_type": "stream",
     "text": [
      "There is 4 stops on this line\n",
      "\n",
      "Stop 1 : a total of 10 people entered the bus!\n",
      "There is currently 10 people on the bus.\n",
      "Stop 2 : a total of 6 People left the bus!\n",
      "There is currently 4 people on the bus.\n",
      "Stop 3 : a total of 14 people entered the bus!\n",
      "There is currently 18 people on the bus.\n",
      "Stop 4 : a total of 11 People left the bus!\n",
      "There is currently 7 people on the bus.\n"
     ]
    }
   ],
   "source": [
    "# 2. Assign a variable a list whose elements are the number of passengers in each stop: \n",
    "# Each item depends on the previous item in the list + in - out.\n",
    "\n",
    "stops = [(10,-0), (3,-9), (15,-1), (3,-14)]\n",
    "numberStops=len(stops)\n",
    "n=0\n",
    "pb = [] #total ppl on/off bus at each stop\n",
    "tpb = [] #total number of people on bus after each stop\n",
    "\n",
    "print (\"There is\",numberStops, \"stops on this line\") \n",
    "print(\"\")\n",
    "\n",
    "while n < numberStops:\n",
    "    n += 1\n",
    "    pb.append((sum(stops[-1 + n])))\n",
    "    tpb.append(sum(pb))\n",
    "    if pb [-1 + n] > 0:\n",
    "        print (\"Stop\",n,\": a total of\",(pb[-1 + n]), \"people entered the bus!\")\n",
    "    elif pb [-1 +n] < 0:\n",
    "        print (\"Stop\",n,\": a total of\",(pb[-1 + n]*-1), \"People left the bus!\")    \n",
    "    print (\"There is currently\",(sum(pb)),\"people on the bus.\")\n",
    "\n"
   ]
  },
  {
   "cell_type": "code",
   "execution_count": 8,
   "metadata": {},
   "outputs": [
    {
     "name": "stdout",
     "output_type": "stream",
     "text": [
      "There is 4 stops on this line\n",
      "\n",
      "Stop 1 : a total of 10 people entered the bus!\n",
      "There is currently 10 people on the bus.\n",
      "Stop 2 : a total of 6 People left the bus!\n",
      "There is currently 4 people on the bus.\n",
      "Stop 3 : a total of 14 people entered the bus!\n",
      "There is currently 18 people on the bus.\n",
      "Stop 4 : a total of 11 People left the bus!\n",
      "There is currently 7 people on the bus.\n",
      "\n",
      "Today, there was a maximum of: 18 people, on the bus simontaneously\n"
     ]
    }
   ],
   "source": [
    "# 3. Find the maximum occupation of the bus.\n",
    "\n",
    "stops = [(10,-0), (3,-9), (15,-1), (3,-14)]\n",
    "numberStops=len(stops)\n",
    "n=0\n",
    "pb = [] #total ppl on/off bus at each stop\n",
    "tpb = [] #total number of people on bus after each stop\n",
    "\n",
    "print (\"There is\",numberStops, \"stops on this line\") \n",
    "print(\"\")\n",
    "\n",
    "while n < numberStops:\n",
    "    n += 1\n",
    "    pb.append((sum(stops[-1 + n])))\n",
    "    tpb.append(sum(pb))\n",
    "    if pb [-1 + n] > 0:\n",
    "        print (\"Stop\",n,\": a total of\",(pb[-1 + n]), \"people entered the bus!\")\n",
    "    elif pb [-1 +n] < 0:\n",
    "        print (\"Stop\",n,\": a total of\",(pb[-1 + n]*-1), \"People left the bus!\")    \n",
    "    print (\"There is currently\",(sum(pb)),\"people on the bus.\")\n",
    "print(\"\")\n",
    "print (\"Today, there was a maximum of:\",max(tpb),\"people, on the bus simontaneously\")"
   ]
  },
  {
   "cell_type": "code",
   "execution_count": 9,
   "metadata": {},
   "outputs": [
    {
     "name": "stdout",
     "output_type": "stream",
     "text": [
      "There is 4 stops on this line\n",
      "\n",
      "Stop 1 : a total of 10 people entered the bus!\n",
      "There is currently 10 people on the bus.\n",
      "Stop 2 : a total of 6 People left the bus!\n",
      "There is currently 4 people on the bus.\n",
      "Stop 3 : a total of 14 people entered the bus!\n",
      "There is currently 18 people on the bus.\n",
      "Stop 4 : a total of 11 People left the bus!\n",
      "There is currently 7 people on the bus.\n",
      "\n",
      "Today, there was a maximum of: 18 people, on the bus simontaneously\n",
      "Todays average amount of bus riders: 9.75\n",
      "The standard deviation is 6.02\n"
     ]
    }
   ],
   "source": [
    "# 4. Calculate the average occupation. And the standard deviation.\n",
    "\n",
    "\n",
    "stops = [(10,-0), (3,-9), (15,-1), (3,-14)]\n",
    "numberStops=len(stops)\n",
    "n=0\n",
    "pb = [] #total ppl on/off bus at each stop\n",
    "tpb = [] #total number of people on bus after each stop\n",
    "\n",
    "print (\"There is\",numberStops, \"stops on this line\") \n",
    "print(\"\")\n",
    "\n",
    "while n < numberStops:\n",
    "    n += 1\n",
    "    pb.append((sum(stops[-1 + n])))\n",
    "    tpb.append(sum(pb))\n",
    "    if pb [-1 + n] > 0:\n",
    "        print (\"Stop\",n,\": a total of\",(pb[-1 + n]), \"people entered the bus!\")\n",
    "    elif pb [-1 +n] < 0:\n",
    "        print (\"Stop\",n,\": a total of\",(pb[-1 + n]*-1), \"People left the bus!\")    \n",
    "    print (\"There is currently\",(sum(pb)),\"people on the bus.\")\n",
    "print(\"\")\n",
    "print (\"Today, there was a maximum of:\",max(tpb),\"people, on the bus simontaneously\")\n",
    "\n",
    "u = (sum(tpb)/len(tpb))\n",
    "\n",
    "import statistics\n",
    "a = statistics.stdev(tpb)\n",
    "\n",
    "print (\"Todays average amount of bus riders:\",u)\n",
    "print (\"The standard deviation is\",round(a,2))\n"
   ]
  },
  {
   "cell_type": "code",
   "execution_count": null,
   "metadata": {},
   "outputs": [],
   "source": []
  }
 ],
 "metadata": {
  "kernelspec": {
   "display_name": "Python 3",
   "language": "python",
   "name": "python3"
  },
  "language_info": {
   "codemirror_mode": {
    "name": "ipython",
    "version": 3
   },
   "file_extension": ".py",
   "mimetype": "text/x-python",
   "name": "python",
   "nbconvert_exporter": "python",
   "pygments_lexer": "ipython3",
   "version": "3.7.3"
  }
 },
 "nbformat": 4,
 "nbformat_minor": 2
}
